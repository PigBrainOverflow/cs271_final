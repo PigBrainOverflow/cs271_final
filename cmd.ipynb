{
 "cells": [
  {
   "cell_type": "code",
   "execution_count": 5,
   "metadata": {},
   "outputs": [
    {
     "name": "stdout",
     "output_type": "stream",
     "text": [
      "1 {\"a\": 1, \"b\": 2} <class 'str'>\n",
      "2 {\"a\": 3, \"b\": 4} <class 'str'>\n",
      "3 {\"a\": 5, \"b\": 6} <class 'str'>\n"
     ]
    }
   ],
   "source": [
    "import sqlite3\n",
    "\n",
    "conn = sqlite3.connect(\":memory:\")\n",
    "conn.execute(\"CREATE TABLE test (id INTEGER PRIMARY KEY, content JSON);\")\n",
    "conn.execute(\"INSERT INTO test (content) VALUES ('{\\\"a\\\": 1, \\\"b\\\": 2}');\")\n",
    "conn.execute(\"INSERT INTO test (content) VALUES ('{\\\"a\\\": 3, \\\"b\\\": 4}');\")\n",
    "conn.execute(\"INSERT INTO test (content) VALUES ('{\\\"a\\\": 5, \\\"b\\\": 6}');\")\n",
    "conn.commit()\n",
    "\n",
    "cursor = conn.execute(\"SELECT * FROM test;\")\n",
    "for id, content in cursor:\n",
    "    print(id, content, type(content))"
   ]
  },
  {
   "cell_type": "code",
   "execution_count": 1,
   "metadata": {},
   "outputs": [
    {
     "data": {
      "text/plain": [
       "False"
      ]
     },
     "execution_count": 1,
     "metadata": {},
     "output_type": "execute_result"
    }
   ],
   "source": [
    "None == 1"
   ]
  }
 ],
 "metadata": {
  "kernelspec": {
   "display_name": "web",
   "language": "python",
   "name": "python3"
  },
  "language_info": {
   "codemirror_mode": {
    "name": "ipython",
    "version": 3
   },
   "file_extension": ".py",
   "mimetype": "text/x-python",
   "name": "python",
   "nbconvert_exporter": "python",
   "pygments_lexer": "ipython3",
   "version": "3.11.8"
  }
 },
 "nbformat": 4,
 "nbformat_minor": 2
}
